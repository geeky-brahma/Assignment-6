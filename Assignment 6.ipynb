{
 "cells": [
  {
   "cell_type": "markdown",
   "id": "201c9a27",
   "metadata": {},
   "source": [
    "1."
   ]
  },
  {
   "cell_type": "code",
   "execution_count": 6,
   "id": "f2f1ed46",
   "metadata": {},
   "outputs": [
    {
     "name": "stdout",
     "output_type": "stream",
     "text": [
      "Enter a Password: HHee@#$123\n"
     ]
    },
    {
     "data": {
      "text/plain": [
       "'Valid Password!!'"
      ]
     },
     "execution_count": 6,
     "metadata": {},
     "output_type": "execute_result"
    }
   ],
   "source": [
    "from string import punctuation\n",
    "def password_check(passwrd):\n",
    "    l=list(punctuation)\n",
    "    count_upper=0\n",
    "    count_lower=0\n",
    "    count_num=0\n",
    "    count_spl_char=0\n",
    "    if len(passwrd)==10:\n",
    "        for i in passwrd:\n",
    "            if i.isupper():\n",
    "                count_upper+=1\n",
    "            if i.islower():\n",
    "                count_lower+=1\n",
    "            if i.isdigit():\n",
    "                count_num+=1\n",
    "            if i in l:\n",
    "                count_spl_char+=1\n",
    "        if count_upper>=2 and count_lower>=2 and count_num>=1 and count_spl_char>=3:\n",
    "            return \"Valid Password!!\"\n",
    "        else:\n",
    "            return \"Invalid Password!!\"\n",
    "    else:\n",
    "        return \"Invalid Password!!\"\n",
    "passwrd=input(\"Enter a Password: \")\n",
    "password_check(passwrd)"
   ]
  },
  {
   "cell_type": "markdown",
   "id": "49f33dc2",
   "metadata": {},
   "source": [
    "2."
   ]
  },
  {
   "cell_type": "markdown",
   "id": "7f7d32ee",
   "metadata": {},
   "source": [
    "Check if the string starts with a particular letterY"
   ]
  },
  {
   "cell_type": "code",
   "execution_count": 10,
   "id": "5393bdab",
   "metadata": {},
   "outputs": [
    {
     "name": "stdout",
     "output_type": "stream",
     "text": [
      "Enter a String: Hello\n",
      "Enter Starting Letter: h\n",
      "Hello does not start with h\n"
     ]
    }
   ],
   "source": [
    "a=lambda x,y: f\"{x} starts with {y}\" if x[0]==y else f\"{x} does not start with {y}\"\n",
    "x=input(\"Enter a String: \")\n",
    "y=input(\"Enter Starting Letter: \")\n",
    "print(a(x,y))"
   ]
  },
  {
   "cell_type": "markdown",
   "id": "89d250fb",
   "metadata": {},
   "source": [
    "Check if the string is numeric"
   ]
  },
  {
   "cell_type": "code",
   "execution_count": 13,
   "id": "2f789a9a",
   "metadata": {},
   "outputs": [
    {
     "name": "stdout",
     "output_type": "stream",
     "text": [
      "Enter a String: Hello\n",
      "Hello is not Numeric\n"
     ]
    }
   ],
   "source": [
    "b=lambda x: f\"{x} is Numeric\" if x.isdigit() else f\"{x} is not Numeric\"\n",
    "x=input(\"Enter a String: \")\n",
    "print(b(x))"
   ]
  },
  {
   "cell_type": "markdown",
   "id": "bda298f0",
   "metadata": {},
   "source": [
    "Sort a list of tuples having fruit names and their quantity."
   ]
  },
  {
   "cell_type": "code",
   "execution_count": 62,
   "id": "3f92134f",
   "metadata": {},
   "outputs": [
    {
     "name": "stdout",
     "output_type": "stream",
     "text": [
      "[('orange', 80), ('mango', 99), ('grapes', 1000)]\n"
     ]
    }
   ],
   "source": [
    "l=[(\"mango\",99),(\"orange\",80), (\"grapes\", 1000)]\n",
    "a=lambda x,y: True if x>y else False\n",
    "for i in range(len(l)):\n",
    "    \n",
    "    for j in range(i+1,len(l)):\n",
    "        \n",
    "        if a(l[i][1],l[j][1]):\n",
    "            l[i],l[j]=l[j],l[i]\n",
    "\n",
    "print(l)\n",
    " "
   ]
  },
  {
   "cell_type": "markdown",
   "id": "109c86a3",
   "metadata": {},
   "source": [
    "Find the squares of numbers from 1 to 10Y"
   ]
  },
  {
   "cell_type": "code",
   "execution_count": 17,
   "id": "968caad7",
   "metadata": {},
   "outputs": [
    {
     "data": {
      "text/plain": [
       "[1, 4, 9, 16, 25, 36, 49, 64, 81, 100]"
      ]
     },
     "execution_count": 17,
     "metadata": {},
     "output_type": "execute_result"
    }
   ],
   "source": [
    "[x**2 for x in range(1,11)]"
   ]
  },
  {
   "cell_type": "markdown",
   "id": "a3f6333a",
   "metadata": {},
   "source": [
    "Find the cube root of numbers from 1 to 10Y"
   ]
  },
  {
   "cell_type": "code",
   "execution_count": 18,
   "id": "dbd9288a",
   "metadata": {},
   "outputs": [
    {
     "data": {
      "text/plain": [
       "[1.0,\n",
       " 1.2599210498948732,\n",
       " 1.4422495703074083,\n",
       " 1.5874010519681994,\n",
       " 1.7099759466766968,\n",
       " 1.8171205928321397,\n",
       " 1.912931182772389,\n",
       " 2.0,\n",
       " 2.080083823051904,\n",
       " 2.154434690031884]"
      ]
     },
     "execution_count": 18,
     "metadata": {},
     "output_type": "execute_result"
    }
   ],
   "source": [
    "[x**(1/3) for x in range(1,11)]"
   ]
  },
  {
   "cell_type": "markdown",
   "id": "4f9ad7c8",
   "metadata": {},
   "source": [
    "Check if a given number is even"
   ]
  },
  {
   "cell_type": "code",
   "execution_count": 20,
   "id": "dcda4887",
   "metadata": {},
   "outputs": [
    {
     "name": "stdout",
     "output_type": "stream",
     "text": [
      "Enter a number: 2\n",
      "2 is even\n"
     ]
    }
   ],
   "source": [
    "c=lambda x: f\"{x} is even\" if x%2==0 else f\"{x} is not even\"\n",
    "num=int(input(\"Enter a number: \"))\n",
    "print(c(num))"
   ]
  },
  {
   "cell_type": "markdown",
   "id": "9730ae61",
   "metadata": {},
   "source": [
    "Filter odd numbers from the given list."
   ]
  },
  {
   "cell_type": "code",
   "execution_count": 23,
   "id": "3b3e1c77",
   "metadata": {},
   "outputs": [
    {
     "name": "stdout",
     "output_type": "stream",
     "text": [
      "1\n",
      "3\n",
      "5\n",
      "7\n",
      "9\n"
     ]
    }
   ],
   "source": [
    "l=[1,2,3,4,5,6,7,8,9,10]\n",
    "a=filter(lambda x: x%2!=0, l)\n",
    "for i in a:\n",
    "    print(i)"
   ]
  },
  {
   "cell_type": "markdown",
   "id": "eba3da28",
   "metadata": {},
   "source": [
    "Sort a list of integers into positive and negative integers lists."
   ]
  },
  {
   "cell_type": "code",
   "execution_count": 59,
   "id": "41e3859b",
   "metadata": {},
   "outputs": [
    {
     "name": "stdout",
     "output_type": "stream",
     "text": [
      "[0, 1, 2, 3, 4, 5, 6] [-5, -4, -3, -2, -1]\n"
     ]
    }
   ],
   "source": [
    "l=[1,2,3,4,5,6,-1,-2,-3,-4,-5,0]\n",
    "l1=[]\n",
    "l2=[]\n",
    "a=lambda x: True if x>=0 else False\n",
    "for i in l:\n",
    "    if a(i):\n",
    "        l1.append(i)\n",
    "    else:\n",
    "        l2.append(i)\n",
    "l1.sort()\n",
    "l2.sort()\n",
    "print(l1,l2)"
   ]
  }
 ],
 "metadata": {
  "kernelspec": {
   "display_name": "Python 3 (ipykernel)",
   "language": "python",
   "name": "python3"
  },
  "language_info": {
   "codemirror_mode": {
    "name": "ipython",
    "version": 3
   },
   "file_extension": ".py",
   "mimetype": "text/x-python",
   "name": "python",
   "nbconvert_exporter": "python",
   "pygments_lexer": "ipython3",
   "version": "3.9.13"
  }
 },
 "nbformat": 4,
 "nbformat_minor": 5
}
